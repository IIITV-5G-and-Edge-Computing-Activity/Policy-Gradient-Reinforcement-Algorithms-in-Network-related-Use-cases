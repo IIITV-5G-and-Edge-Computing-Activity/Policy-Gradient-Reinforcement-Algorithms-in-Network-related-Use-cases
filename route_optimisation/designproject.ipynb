{
 "cells": [
  {
   "cell_type": "code",
   "execution_count": 1,
   "id": "9896eea9-30e4-43de-b5f3-e76d794afbb4",
   "metadata": {},
   "outputs": [],
   "source": [
    "def update_Q(T,Q,current_state, next_state, alpha):\n",
    "    current_t = T[current_state][next_state]\n",
    "    current_q = Q[current_state][next_state]\n",
    "    new_q = current_q + alpha * (current_t + min(Q[next_state].values()) - current_q)\n",
    "    Q[current_state][next_state] = new_q   \n",
    "    return Q"
   ]
  },
  {
   "cell_type": "code",
   "execution_count": 3,
   "id": "866af781-89cd-48fb-83c8-8a44fa2df3c5",
   "metadata": {},
   "outputs": [
    {
     "name": "stdout",
     "output_type": "stream",
     "text": [
      "loop: 0\n",
      "nodes: [0, 0, 5]\n",
      "nodes: [0, 0, 5, 4]\n",
      "nodes: [0, 0, 5, 4, 4]\n",
      "nodes: [0, 0, 5, 4, 4, 4]\n",
      "time is: 0.013805627822875977\n",
      "{9: [[1, 4, 5, 9]]}\n"
     ]
    }
   ],
   "source": [
    "from get_dict import get_dict\n",
    "from get_R_Q import initial_R\n",
    "from get_R_Q import initial_Q\n",
    "from get_result import get_result\n",
    "\n",
    "import pandas as pd\n",
    "import time\n",
    "\n",
    "data = pd.read_csv(\"graph_1.csv\")\n",
    "graph = get_dict(data)\n",
    "\n",
    "A = graph[\"A\"]\n",
    "Z = graph[\"Z\"]\n",
    "weight = graph[\"weight\"]\n",
    "A_Z_dict = graph[\"A_Z_dict\"]\n",
    "\n",
    "##\n",
    "start = 1\n",
    "end = [9]\n",
    "\n",
    "R = initial_R(A,Z,weight,A_Z_dict)\n",
    "Q = initial_Q(R)\n",
    "\n",
    "alpha = 0.7 # learning rate\n",
    "epsilon = 0.1 #greedy policy\n",
    "n_episodes = 1000\n",
    "\n",
    "time0 = time.time()\n",
    "result = get_result(R,Q,alpha,epsilon,n_episodes,start,end)\n",
    "print(\"time is:\",time.time() - time0)\n",
    "print(result[\"all_routes\"])"
   ]
  },
  {
   "cell_type": "code",
   "execution_count": 7,
   "id": "235c0944-30ba-4727-9cfe-b14dac061666",
   "metadata": {},
   "outputs": [
    {
     "name": "stdout",
     "output_type": "stream",
     "text": [
      "loop: 0\n",
      "nodes: [0, 0, 3]\n",
      "nodes: [0, 0, 3, 4]\n",
      "nodes: [0, 0, 3, 4, 4]\n",
      "nodes: [0, 0, 3, 4, 4, 4]\n",
      "time is: 0.014379262924194336\n",
      "{9: [[1, 4, 9], [1, 4, 5, 9]]}\n"
     ]
    }
   ],
   "source": [
    "from get_dict import get_dict\n",
    "from get_R_Q import initial_R\n",
    "from get_R_Q import initial_Q\n",
    "from get_result import get_result\n",
    "\n",
    "import pandas as pd\n",
    "import time\n",
    "\n",
    "data = pd.read_csv(\"graph_2.csv\")\n",
    "graph = get_dict(data)\n",
    "\n",
    "A = graph[\"A\"]\n",
    "Z = graph[\"Z\"]\n",
    "weight = graph[\"weight\"]\n",
    "A_Z_dict = graph[\"A_Z_dict\"]\n",
    "\n",
    "##\n",
    "start = 1\n",
    "end = [9]\n",
    "\n",
    "R = initial_R(A,Z,weight,A_Z_dict)\n",
    "Q = initial_Q(R)\n",
    "\n",
    "alpha = 0.7 # learning rate\n",
    "epsilon = 0.1 #greedy policy\n",
    "n_episodes = 1000\n",
    "\n",
    "time0 = time.time()\n",
    "result = get_result(R,Q,alpha,epsilon,n_episodes,start,end)\n",
    "print(\"time is:\",time.time() - time0)\n",
    "print(result[\"all_routes\"])"
   ]
  }
 ],
 "metadata": {
  "kernelspec": {
   "display_name": "Python 3 (ipykernel)",
   "language": "python",
   "name": "python3"
  },
  "language_info": {
   "codemirror_mode": {
    "name": "ipython",
    "version": 3
   },
   "file_extension": ".py",
   "mimetype": "text/x-python",
   "name": "python",
   "nbconvert_exporter": "python",
   "pygments_lexer": "ipython3",
   "version": "3.12.4"
  }
 },
 "nbformat": 4,
 "nbformat_minor": 5
}
